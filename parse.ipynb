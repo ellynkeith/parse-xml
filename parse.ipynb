{
 "cells": [
  {
   "cell_type": "code",
   "execution_count": 1,
   "metadata": {
    "collapsed": true
   },
   "outputs": [],
   "source": [
    "from bs4 import BeautifulSoup"
   ]
  },
  {
   "cell_type": "code",
   "execution_count": 2,
   "metadata": {
    "collapsed": true
   },
   "outputs": [],
   "source": [
    "xml = open(\"data.xml\", \"rb\")\n",
    "data = xml.read()\n",
    "xml.close()\n",
    "soup = BeautifulSoup(data, \"html.parser\")"
   ]
  },
  {
   "cell_type": "code",
   "execution_count": 4,
   "metadata": {
    "collapsed": false
   },
   "outputs": [
    {
     "name": "stdout",
     "output_type": "stream",
     "text": [
      "4 9393\n"
     ]
    }
   ],
   "source": [
    "eng = open(\"eng.txt\", \"w\")\n",
    "fren = open(\"fren.txt\", \"w\")\n",
    "\n",
    "docs = soup.find_all(\"document\")\n",
    "\n",
    "engWrite = 0\n",
    "frenWrite = 0\n",
    "engSentCount=0\n",
    "frenSentCount=0\n",
    "count = 0\n",
    "for doc in docs:\n",
    "    lang = doc.infon.contents\n",
    "    if lang == [\"EN\"]:\n",
    "        sents = doc.find_all(\"text\")\n",
    "        engDoclength=len(sents)\n",
    "        for sent in sents:\n",
    "            engSentCount += 1\n",
    "            eng.write(str(sent.contents) + \"\\n\")\n",
    "            engWrite += 1\n",
    " \n",
    "    elif lang == [\"FR\"]:\n",
    "        frenDoclength=len(sents)\n",
    "        sents = doc.find_all(\"text\")\n",
    "        for sent in sents:\n",
    "            frenSentCount += 1\n",
    "            if frenSentCount == engSentCount:\n",
    "                fren.write(str(sent.contents) + \"\\n\")\n",
    "                frenWrite += 1\n",
    "            else:\n",
    "                pass\n",
    "\n",
    "            \n",
    "eng.close()\n",
    "fren.close()\n",
    "print(frenWrite,engWrite)"
   ]
  },
  {
   "cell_type": "code",
   "execution_count": 6,
   "metadata": {
    "collapsed": false
   },
   "outputs": [
    {
     "name": "stdout",
     "output_type": "stream",
     "text": [
      "9393\n",
      "4\n"
     ]
    }
   ],
   "source": [
    "engopen = open(\"eng.txt\", \"r\")\n",
    "eng = engopen.readlines()\n",
    "print(len(eng))\n",
    "\n",
    "fropen = open(\"fren.txt\", \"r\")\n",
    "fren = fropen.readlines()\n",
    "print(len(fren))\n",
    "\n",
    "engopen.close()\n",
    "fropen.close()"
   ]
  },
  {
   "cell_type": "code",
   "execution_count": 11,
   "metadata": {
    "collapsed": false
   },
   "outputs": [
    {
     "data": {
      "text/plain": [
       "18894"
      ]
     },
     "execution_count": 11,
     "metadata": {},
     "output_type": "execute_result"
    }
   ],
   "source": [
    "9393 + 9501"
   ]
  },
  {
   "cell_type": "code",
   "execution_count": null,
   "metadata": {
    "collapsed": true
   },
   "outputs": [],
   "source": []
  }
 ],
 "metadata": {
  "kernelspec": {
   "display_name": "Python 3",
   "language": "python",
   "name": "python3"
  },
  "language_info": {
   "codemirror_mode": {
    "name": "ipython",
    "version": 3
   },
   "file_extension": ".py",
   "mimetype": "text/x-python",
   "name": "python",
   "nbconvert_exporter": "python",
   "pygments_lexer": "ipython3",
   "version": "3.5.2"
  }
 },
 "nbformat": 4,
 "nbformat_minor": 0
}
