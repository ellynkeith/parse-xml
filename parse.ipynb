{
 "cells": [
  {
   "cell_type": "code",
   "execution_count": 2,
   "metadata": {
    "collapsed": true
   },
   "outputs": [],
   "source": [
    "from bs4 import BeautifulSoup"
   ]
  },
  {
   "cell_type": "code",
   "execution_count": 43,
   "metadata": {
    "collapsed": false
   },
   "outputs": [
    {
     "name": "stdout",
     "output_type": "stream",
     "text": [
      "9393 9501\n"
     ]
    }
   ],
   "source": [
    "xml = open(\"data.xml\", \"rb\")\n",
    "data = xml.read()\n",
    "xml.close()\n",
    "soup = BeautifulSoup(data, \"html.parser\")\n",
    "\n",
    "eng = open(\"eng.txt\", \"w\")\n",
    "fren = open(\"fren.txt\", \"w\")\n",
    "\n",
    "docs = soup.find_all(\"document\")\n",
    "\n",
    "countEng = 0\n",
    "countFren = 0\n",
    "for doc in docs:\n",
    "    lang = doc.infon.contents\n",
    "    if lang == [\"EN\"]:\n",
    "        sents = doc.find_all(\"text\")\n",
    "        for sent in sents:\n",
    "            eng.write(str(sent.contents) + \"\\n\")\n",
    "            countEng += 1\n",
    "    elif lang == [\"FR\"]:\n",
    "        sents = doc.find_all(\"text\")\n",
    "        for sent in sents:\n",
    "            fren.write(str(sent.contents) + \"\\n\")\n",
    "            countFren += 1\n",
    "            \n",
    "eng.close()\n",
    "fren.close()\n",
    "print(countEng, countFren)"
   ]
  },
  {
   "cell_type": "code",
   "execution_count": null,
   "metadata": {
    "collapsed": false
   },
   "outputs": [],
   "source": []
  },
  {
   "cell_type": "code",
   "execution_count": null,
   "metadata": {
    "collapsed": false
   },
   "outputs": [],
   "source": []
  },
  {
   "cell_type": "code",
   "execution_count": null,
   "metadata": {
    "collapsed": true
   },
   "outputs": [],
   "source": []
  }
 ],
 "metadata": {
  "kernelspec": {
   "display_name": "Python 3",
   "language": "python",
   "name": "python3"
  },
  "language_info": {
   "codemirror_mode": {
    "name": "ipython",
    "version": 3
   },
   "file_extension": ".py",
   "mimetype": "text/x-python",
   "name": "python",
   "nbconvert_exporter": "python",
   "pygments_lexer": "ipython3",
   "version": "3.5.2"
  }
 },
 "nbformat": 4,
 "nbformat_minor": 0
}
